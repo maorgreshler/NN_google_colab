{
  "nbformat": 4,
  "nbformat_minor": 0,
  "metadata": {
    "colab": {
      "provenance": [],
      "authorship_tag": "ABX9TyMeZV7IiX8tuUI07Rck6/ae",
      "include_colab_link": true
    },
    "kernelspec": {
      "name": "python3",
      "display_name": "Python 3"
    },
    "language_info": {
      "name": "python"
    }
  },
  "cells": [
    {
      "cell_type": "markdown",
      "metadata": {
        "id": "view-in-github",
        "colab_type": "text"
      },
      "source": [
        "<a href=\"https://colab.research.google.com/github/maorgreshler/NN_google_colab/blob/main/overfitcheck.ipynb\" target=\"_parent\"><img src=\"https://colab.research.google.com/assets/colab-badge.svg\" alt=\"Open In Colab\"/></a>"
      ]
    },
    {
      "cell_type": "code",
      "execution_count": null,
      "metadata": {
        "id": "XDZ0V9xd9mG1"
      },
      "outputs": [],
      "source": [
        "import pandas as pd\n",
        "import io\n",
        "from google.colab import files\n",
        "uploaded = files.upload()\n",
        "\n",
        "df = pd.read_csv(io.BytesIO(uploaded['vehicle_simulation_data_random_test.csv']))\n",
        "print(df.head())"
      ]
    },
    {
      "cell_type": "code",
      "source": [
        "input_columns = [\"velocity\", \"yaw_angle\", \"yaw_rate\", \"slip_angle\", \"front_wheel\", \"back_wheel\" , \"acceleration\", \"angular_acceleration\"]\n",
        "\n",
        "output_columns = [\"delta_x_position\", \"delta_y_position\", \"delta_theta\", \"delta_velocity\", \"delta_yaw_angle\",\n",
        "                  \"delta_yaw_rate\", \"delta_slip_angle\", \"delta_front_wheel\", \"delta_back_wheel\"]\n",
        "\n",
        "input_data = df[input_columns]\n",
        "output_data = df[output_columns]"
      ],
      "metadata": {
        "id": "fimdVT5KEk2O"
      },
      "execution_count": 58,
      "outputs": []
    },
    {
      "cell_type": "code",
      "source": [
        "import torch\n",
        "import torch.nn as nn\n",
        "import torch.optim as optim\n",
        "from sklearn.model_selection import train_test_split\n",
        "from sklearn.preprocessing import StandardScaler\n",
        "\n",
        "# Convert pandas DataFrames to numpy arrays\n",
        "X = input_data.values\n",
        "y = output_data.values\n",
        "# Normalize the data\n",
        "scaler_X = StandardScaler()\n",
        "scaler_y = StandardScaler()\n",
        "\n",
        "X = scaler_X.fit_transform(X)\n",
        "y = scaler_y.fit_transform(y)\n",
        "\n",
        "# Split the data into train and test sets\n",
        "X_train, X_test, y_train, y_test = train_test_split(X, y, test_size=0.1, random_state=42)\n",
        "\n",
        "# Convert numpy arrays to PyTorch tensors\n",
        "X_train_tensor = torch.tensor(X_train, dtype=torch.float32)\n",
        "y_train_tensor = torch.tensor(y_train, dtype=torch.float32)\n",
        "X_test_tensor = torch.tensor(X_test, dtype=torch.float32)\n",
        "y_test_tensor = torch.tensor(y_test, dtype=torch.float32)\n",
        "\n",
        "# Define the MLP model\n",
        "class MLP(nn.Module):\n",
        "    def __init__(self, input_size, output_size):\n",
        "        super(MLP, self).__init__()\n",
        "        self.fc1 = nn.Linear(input_size, 64)\n",
        "        self.fc2 = nn.Linear(64, 128)\n",
        "        self.fc3 = nn.Linear(128, output_size)\n",
        "        self.relu = nn.ReLU()\n",
        "\n",
        "    def forward(self, x):\n",
        "        x = self.relu(self.fc1(x))\n",
        "        x = self.relu(self.fc2(x))\n",
        "        x = self.fc3(x)\n",
        "        return x\n",
        "\n",
        "# Instantiate the model, define loss function and optimizer\n",
        "input_size = X_train.shape[1]\n",
        "output_size = y_train.shape[1]\n",
        "model = MLP(input_size, output_size)\n",
        "criterion = nn.MSELoss()\n",
        "optimizer = optim.Adam(model.parameters(), lr=0.001)\n",
        "\n",
        "# Train the model\n",
        "epochs = 200\n",
        "for epoch in range(epochs):\n",
        "    model.train()\n",
        "    optimizer.zero_grad()\n",
        "    outputs = model(X_train_tensor)\n",
        "    loss = criterion(outputs, y_train_tensor)\n",
        "    loss.backward()\n",
        "    optimizer.step()\n",
        "\n",
        "    if (epoch + 1) % 10 == 0:\n",
        "        print(f'Epoch [{epoch+1}/{epochs}], Loss: {loss.item():.4f}')"
      ],
      "metadata": {
        "colab": {
          "base_uri": "https://localhost:8080/"
        },
        "id": "VUUJCsYyG7V5",
        "outputId": "b9192b1a-8455-404b-e55d-7a5d7add9378"
      },
      "execution_count": 64,
      "outputs": [
        {
          "output_type": "stream",
          "name": "stdout",
          "text": [
            "Epoch [10/200], Loss: 0.8628\n",
            "Epoch [20/200], Loss: 0.6427\n",
            "Epoch [30/200], Loss: 0.4090\n",
            "Epoch [40/200], Loss: 0.2172\n",
            "Epoch [50/200], Loss: 0.1068\n",
            "Epoch [60/200], Loss: 0.0477\n",
            "Epoch [70/200], Loss: 0.0148\n",
            "Epoch [80/200], Loss: 0.0034\n",
            "Epoch [90/200], Loss: 0.0006\n",
            "Epoch [100/200], Loss: 0.0004\n",
            "Epoch [110/200], Loss: 0.0002\n",
            "Epoch [120/200], Loss: 0.0000\n",
            "Epoch [130/200], Loss: 0.0000\n",
            "Epoch [140/200], Loss: 0.0000\n",
            "Epoch [150/200], Loss: 0.0000\n",
            "Epoch [160/200], Loss: 0.0000\n",
            "Epoch [170/200], Loss: 0.0000\n",
            "Epoch [180/200], Loss: 0.0000\n",
            "Epoch [190/200], Loss: 0.0000\n",
            "Epoch [200/200], Loss: 0.0000\n"
          ]
        }
      ]
    },
    {
      "cell_type": "code",
      "source": [
        "# Evaluate the model\n",
        "model.eval()\n",
        "with torch.no_grad():\n",
        "    test_outputs = model(X_test_tensor)\n",
        "    test_loss = criterion(test_outputs, y_test_tensor)\n",
        "    print(f'Test Loss: {test_loss.item():.4f}')\n",
        "\n",
        "#my overfit!!!\n",
        "# Evaluate the model\n",
        "model.eval()\n",
        "with torch.no_grad():\n",
        "    train_outputs = model(X_train_tensor)\n",
        "    train_loss = criterion(train_outputs, y_train_tensor)\n",
        "    print(f'Train Loss: {train_loss.item():.4f}')\n"
      ],
      "metadata": {
        "colab": {
          "base_uri": "https://localhost:8080/"
        },
        "id": "U_Zh66XAHscy",
        "outputId": "a2f41c43-564b-4cca-bf7f-cd20430e329a"
      },
      "execution_count": 65,
      "outputs": [
        {
          "output_type": "stream",
          "name": "stdout",
          "text": [
            "Test Loss: 0.9875\n",
            "Train Loss: 0.0000\n"
          ]
        }
      ]
    },
    {
      "cell_type": "code",
      "source": [
        "# Make predictions\n",
        "with torch.no_grad():\n",
        "    predictions = model(X_test_tensor)\n",
        "    predictions = scaler_y.inverse_transform(predictions.numpy())\n",
        "\n",
        "print(\"Predictions:\")\n",
        "print(predictions)"
      ],
      "metadata": {
        "colab": {
          "base_uri": "https://localhost:8080/"
        },
        "id": "314vaONiLKBW",
        "outputId": "5696c47a-dd9c-498a-d459-18de7b603be1"
      },
      "execution_count": 66,
      "outputs": [
        {
          "output_type": "stream",
          "name": "stdout",
          "text": [
            "Predictions:\n",
            "[[-0.032333 -0.011169 -0.000272  0.04358  -0.001771  0.032075  0.007467\n",
            "   1.008607 -6.188357]]\n"
          ]
        }
      ]
    },
    {
      "cell_type": "code",
      "source": [
        "#my overfit!!!\n",
        "# Make predictions\n",
        "with torch.no_grad():\n",
        "    predictions = model(X_train_tensor)\n",
        "    predictions = scaler_y.inverse_transform(predictions.numpy())\n",
        "\n",
        "print(\"Predictions:\")\n",
        "import numpy as np\n",
        "np.set_printoptions(suppress=True, precision=6)\n",
        "print(predictions[0])"
      ],
      "metadata": {
        "colab": {
          "base_uri": "https://localhost:8080/"
        },
        "id": "j2eP-joeO52g",
        "outputId": "3079773e-542d-4cb3-f35c-9f05a3f6bb0e"
      },
      "execution_count": 71,
      "outputs": [
        {
          "output_type": "stream",
          "name": "stdout",
          "text": [
            "Predictions:\n",
            "[ 0.014616  0.02139  -0.        0.084641 -0.001935 -0.006616 -0.007681\n",
            " -0.636284 -5.106743]\n"
          ]
        }
      ]
    }
  ]
}