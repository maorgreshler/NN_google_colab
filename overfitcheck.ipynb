{
  "nbformat": 4,
  "nbformat_minor": 0,
  "metadata": {
    "colab": {
      "provenance": [],
      "authorship_tag": "ABX9TyMtcGX6Xak4U+K7Yi0EFmql",
      "include_colab_link": true
    },
    "kernelspec": {
      "name": "python3",
      "display_name": "Python 3"
    },
    "language_info": {
      "name": "python"
    }
  },
  "cells": [
    {
      "cell_type": "markdown",
      "metadata": {
        "id": "view-in-github",
        "colab_type": "text"
      },
      "source": [
        "<a href=\"https://colab.research.google.com/github/maorgreshler/NN_google_colab/blob/main/overfitcheck.ipynb\" target=\"_parent\"><img src=\"https://colab.research.google.com/assets/colab-badge.svg\" alt=\"Open In Colab\"/></a>"
      ]
    },
    {
      "cell_type": "code",
      "source": [
        "import pandas as pd\n",
        "import io\n",
        "from google.colab import files\n",
        "\n",
        "# Upload the file\n",
        "uploaded = files.upload()\n",
        "\n",
        "# Get the actual name of the uploaded file\n",
        "file_name = list(uploaded.keys())[0]\n",
        "\n",
        "# Read the file into a DataFrame\n",
        "df = pd.read_csv(io.BytesIO(uploaded[file_name]))\n",
        "print(df.head())"
      ],
      "metadata": {
        "id": "n0l9bqH-_vs9",
        "outputId": "b6c7ee18-8973-423c-d895-fc1a785c2f49",
        "colab": {
          "base_uri": "https://localhost:8080/",
          "height": 663
        }
      },
      "execution_count": 10,
      "outputs": [
        {
          "output_type": "display_data",
          "data": {
            "text/plain": [
              "<IPython.core.display.HTML object>"
            ],
            "text/html": [
              "\n",
              "     <input type=\"file\" id=\"files-07a19817-db4a-48a4-abc6-b7ac6b961b58\" name=\"files[]\" multiple disabled\n",
              "        style=\"border:none\" />\n",
              "     <output id=\"result-07a19817-db4a-48a4-abc6-b7ac6b961b58\">\n",
              "      Upload widget is only available when the cell has been executed in the\n",
              "      current browser session. Please rerun this cell to enable.\n",
              "      </output>\n",
              "      <script>// Copyright 2017 Google LLC\n",
              "//\n",
              "// Licensed under the Apache License, Version 2.0 (the \"License\");\n",
              "// you may not use this file except in compliance with the License.\n",
              "// You may obtain a copy of the License at\n",
              "//\n",
              "//      http://www.apache.org/licenses/LICENSE-2.0\n",
              "//\n",
              "// Unless required by applicable law or agreed to in writing, software\n",
              "// distributed under the License is distributed on an \"AS IS\" BASIS,\n",
              "// WITHOUT WARRANTIES OR CONDITIONS OF ANY KIND, either express or implied.\n",
              "// See the License for the specific language governing permissions and\n",
              "// limitations under the License.\n",
              "\n",
              "/**\n",
              " * @fileoverview Helpers for google.colab Python module.\n",
              " */\n",
              "(function(scope) {\n",
              "function span(text, styleAttributes = {}) {\n",
              "  const element = document.createElement('span');\n",
              "  element.textContent = text;\n",
              "  for (const key of Object.keys(styleAttributes)) {\n",
              "    element.style[key] = styleAttributes[key];\n",
              "  }\n",
              "  return element;\n",
              "}\n",
              "\n",
              "// Max number of bytes which will be uploaded at a time.\n",
              "const MAX_PAYLOAD_SIZE = 100 * 1024;\n",
              "\n",
              "function _uploadFiles(inputId, outputId) {\n",
              "  const steps = uploadFilesStep(inputId, outputId);\n",
              "  const outputElement = document.getElementById(outputId);\n",
              "  // Cache steps on the outputElement to make it available for the next call\n",
              "  // to uploadFilesContinue from Python.\n",
              "  outputElement.steps = steps;\n",
              "\n",
              "  return _uploadFilesContinue(outputId);\n",
              "}\n",
              "\n",
              "// This is roughly an async generator (not supported in the browser yet),\n",
              "// where there are multiple asynchronous steps and the Python side is going\n",
              "// to poll for completion of each step.\n",
              "// This uses a Promise to block the python side on completion of each step,\n",
              "// then passes the result of the previous step as the input to the next step.\n",
              "function _uploadFilesContinue(outputId) {\n",
              "  const outputElement = document.getElementById(outputId);\n",
              "  const steps = outputElement.steps;\n",
              "\n",
              "  const next = steps.next(outputElement.lastPromiseValue);\n",
              "  return Promise.resolve(next.value.promise).then((value) => {\n",
              "    // Cache the last promise value to make it available to the next\n",
              "    // step of the generator.\n",
              "    outputElement.lastPromiseValue = value;\n",
              "    return next.value.response;\n",
              "  });\n",
              "}\n",
              "\n",
              "/**\n",
              " * Generator function which is called between each async step of the upload\n",
              " * process.\n",
              " * @param {string} inputId Element ID of the input file picker element.\n",
              " * @param {string} outputId Element ID of the output display.\n",
              " * @return {!Iterable<!Object>} Iterable of next steps.\n",
              " */\n",
              "function* uploadFilesStep(inputId, outputId) {\n",
              "  const inputElement = document.getElementById(inputId);\n",
              "  inputElement.disabled = false;\n",
              "\n",
              "  const outputElement = document.getElementById(outputId);\n",
              "  outputElement.innerHTML = '';\n",
              "\n",
              "  const pickedPromise = new Promise((resolve) => {\n",
              "    inputElement.addEventListener('change', (e) => {\n",
              "      resolve(e.target.files);\n",
              "    });\n",
              "  });\n",
              "\n",
              "  const cancel = document.createElement('button');\n",
              "  inputElement.parentElement.appendChild(cancel);\n",
              "  cancel.textContent = 'Cancel upload';\n",
              "  const cancelPromise = new Promise((resolve) => {\n",
              "    cancel.onclick = () => {\n",
              "      resolve(null);\n",
              "    };\n",
              "  });\n",
              "\n",
              "  // Wait for the user to pick the files.\n",
              "  const files = yield {\n",
              "    promise: Promise.race([pickedPromise, cancelPromise]),\n",
              "    response: {\n",
              "      action: 'starting',\n",
              "    }\n",
              "  };\n",
              "\n",
              "  cancel.remove();\n",
              "\n",
              "  // Disable the input element since further picks are not allowed.\n",
              "  inputElement.disabled = true;\n",
              "\n",
              "  if (!files) {\n",
              "    return {\n",
              "      response: {\n",
              "        action: 'complete',\n",
              "      }\n",
              "    };\n",
              "  }\n",
              "\n",
              "  for (const file of files) {\n",
              "    const li = document.createElement('li');\n",
              "    li.append(span(file.name, {fontWeight: 'bold'}));\n",
              "    li.append(span(\n",
              "        `(${file.type || 'n/a'}) - ${file.size} bytes, ` +\n",
              "        `last modified: ${\n",
              "            file.lastModifiedDate ? file.lastModifiedDate.toLocaleDateString() :\n",
              "                                    'n/a'} - `));\n",
              "    const percent = span('0% done');\n",
              "    li.appendChild(percent);\n",
              "\n",
              "    outputElement.appendChild(li);\n",
              "\n",
              "    const fileDataPromise = new Promise((resolve) => {\n",
              "      const reader = new FileReader();\n",
              "      reader.onload = (e) => {\n",
              "        resolve(e.target.result);\n",
              "      };\n",
              "      reader.readAsArrayBuffer(file);\n",
              "    });\n",
              "    // Wait for the data to be ready.\n",
              "    let fileData = yield {\n",
              "      promise: fileDataPromise,\n",
              "      response: {\n",
              "        action: 'continue',\n",
              "      }\n",
              "    };\n",
              "\n",
              "    // Use a chunked sending to avoid message size limits. See b/62115660.\n",
              "    let position = 0;\n",
              "    do {\n",
              "      const length = Math.min(fileData.byteLength - position, MAX_PAYLOAD_SIZE);\n",
              "      const chunk = new Uint8Array(fileData, position, length);\n",
              "      position += length;\n",
              "\n",
              "      const base64 = btoa(String.fromCharCode.apply(null, chunk));\n",
              "      yield {\n",
              "        response: {\n",
              "          action: 'append',\n",
              "          file: file.name,\n",
              "          data: base64,\n",
              "        },\n",
              "      };\n",
              "\n",
              "      let percentDone = fileData.byteLength === 0 ?\n",
              "          100 :\n",
              "          Math.round((position / fileData.byteLength) * 100);\n",
              "      percent.textContent = `${percentDone}% done`;\n",
              "\n",
              "    } while (position < fileData.byteLength);\n",
              "  }\n",
              "\n",
              "  // All done.\n",
              "  yield {\n",
              "    response: {\n",
              "      action: 'complete',\n",
              "    }\n",
              "  };\n",
              "}\n",
              "\n",
              "scope.google = scope.google || {};\n",
              "scope.google.colab = scope.google.colab || {};\n",
              "scope.google.colab._files = {\n",
              "  _uploadFiles,\n",
              "  _uploadFilesContinue,\n",
              "};\n",
              "})(self);\n",
              "</script> "
            ]
          },
          "metadata": {}
        },
        {
          "output_type": "stream",
          "name": "stdout",
          "text": [
            "Saving overfit_test.csv to overfit_test (8).csv\n",
            "   x_position  y_position     theta   velocity  yaw_angle  yaw_rate  \\\n",
            "0    6.949054    0.308962 -0.457965  17.818398  -1.001454 -0.513283   \n",
            "1   -7.417301    9.538423 -1.689320   2.633025  -2.051632  0.188853   \n",
            "2   -2.801338   -2.354316  2.264059  13.642371   0.328596  0.843307   \n",
            "3    3.412298   -9.167707  2.944074   9.499971  -0.208473 -0.586376   \n",
            "4   -2.080115   -8.289799 -2.113399  16.085139  -0.372160  0.091362   \n",
            "\n",
            "   slip_angle  front_wheel  back_wheel  acceleration  angular_acceleration  \\\n",
            "0    0.114116     0.593264   -0.586801     -4.065305              0.198227   \n",
            "1   -0.123249    -0.548003   -0.350034     -2.401921             -0.742328   \n",
            "2    0.282142     0.647917   -0.385001      1.944356              0.092822   \n",
            "3   -0.504685     0.707749   -0.016458     -4.420800             -0.834798   \n",
            "4    0.421701     0.466814    0.614045     -3.783537             -0.060659   \n",
            "\n",
            "   delta_x_position  delta_y_position  delta_theta  delta_velocity  \\\n",
            "0         -0.112237          0.137874    -0.001982        0.080735   \n",
            "1          0.014623          0.021390     0.000000        0.084642   \n",
            "2         -0.111411         -0.077993     0.000000        0.085558   \n",
            "3         -0.071678          0.062401     0.004000       -0.007582   \n",
            "4         -0.160410         -0.008240     0.000000        0.045228   \n",
            "\n",
            "   delta_yaw_angle  delta_yaw_rate  delta_slip_angle  delta_front_wheel  \\\n",
            "0         0.005155        0.004769         -0.004718          -3.831814   \n",
            "1        -0.001935       -0.006615         -0.007681          -0.636018   \n",
            "2        -0.008427        0.000815          0.008441           0.071652   \n",
            "3         0.006146        0.056615          0.000124           0.707749   \n",
            "4        -0.001135       -0.044855         -0.002447           0.466814   \n",
            "\n",
            "   delta_back_wheel  \n",
            "0         -3.402065  \n",
            "1         -5.107083  \n",
            "2         -8.542225  \n",
            "3         -1.993860  \n",
            "4         -2.617656  \n"
          ]
        }
      ]
    },
    {
      "cell_type": "code",
      "source": [
        "input_columns = [\"velocity\", \"yaw_angle\", \"yaw_rate\", \"slip_angle\", \"front_wheel\", \"back_wheel\" , \"acceleration\", \"angular_acceleration\"]\n",
        "\n",
        "output_columns = [\"delta_x_position\", \"delta_y_position\", \"delta_theta\", \"delta_velocity\", \"delta_yaw_angle\",\n",
        "                  \"delta_yaw_rate\", \"delta_slip_angle\", \"delta_front_wheel\", \"delta_back_wheel\"]\n",
        "\n",
        "input_data = df[input_columns]\n",
        "output_data = df[output_columns]"
      ],
      "metadata": {
        "id": "fimdVT5KEk2O"
      },
      "execution_count": 11,
      "outputs": []
    },
    {
      "cell_type": "code",
      "source": [
        "import torch\n",
        "import torch.nn as nn\n",
        "import torch.optim as optim\n",
        "from sklearn.model_selection import train_test_split\n",
        "from sklearn.preprocessing import StandardScaler\n",
        "\n",
        "# Convert pandas DataFrames to numpy arrays\n",
        "X = input_data.values\n",
        "y = output_data.values\n",
        "# Normalize the data\n",
        "scaler_X = StandardScaler()\n",
        "scaler_y = StandardScaler()\n",
        "\n",
        "X = scaler_X.fit_transform(X)\n",
        "y = scaler_y.fit_transform(y)\n",
        "\n",
        "# Split the data into train and test sets\n",
        "X_train, X_test, y_train, y_test = train_test_split(X, y, test_size=0.1, random_state=42)\n",
        "\n",
        "# Convert numpy arrays to PyTorch tensors\n",
        "X_train_tensor = torch.tensor(X_train, dtype=torch.float32)\n",
        "y_train_tensor = torch.tensor(y_train, dtype=torch.float32)\n",
        "X_test_tensor = torch.tensor(X_test, dtype=torch.float32)\n",
        "y_test_tensor = torch.tensor(y_test, dtype=torch.float32)\n",
        "\n",
        "# Define the MLP model\n",
        "class MLP(nn.Module):\n",
        "    def __init__(self, input_size, output_size):\n",
        "        super(MLP, self).__init__()\n",
        "        self.fc1 = nn.Linear(input_size, 64)\n",
        "        self.fc2 = nn.Linear(64, 128)\n",
        "        self.fc3 = nn.Linear(128, output_size)\n",
        "        self.relu = nn.ReLU()\n",
        "\n",
        "    def forward(self, x):\n",
        "        x = self.relu(self.fc1(x))\n",
        "        x = self.relu(self.fc2(x))\n",
        "        x = self.fc3(x)\n",
        "        return x\n",
        "\n",
        "# Instantiate the model, define loss function and optimizer\n",
        "input_size = X_train.shape[1]\n",
        "output_size = y_train.shape[1]\n",
        "model = MLP(input_size, output_size)\n",
        "criterion = nn.MSELoss()\n",
        "optimizer = optim.Adam(model.parameters(), lr=0.001)\n",
        "\n",
        "# Train the model\n",
        "epochs = 200\n",
        "for epoch in range(epochs):\n",
        "    model.train()\n",
        "    optimizer.zero_grad()\n",
        "    outputs = model(X_train_tensor)\n",
        "    loss = criterion(outputs, y_train_tensor)\n",
        "    loss.backward()\n",
        "    optimizer.step()\n",
        "\n",
        "    if (epoch + 1) % 10 == 0:\n",
        "        print(f'Epoch [{epoch+1}/{epochs}], Loss: {loss.item():.4f}')"
      ],
      "metadata": {
        "colab": {
          "base_uri": "https://localhost:8080/"
        },
        "id": "VUUJCsYyG7V5",
        "outputId": "fc6d02af-c7aa-4d10-bf2d-622d2a9ac5fe"
      },
      "execution_count": 12,
      "outputs": [
        {
          "output_type": "stream",
          "name": "stdout",
          "text": [
            "Epoch [10/200], Loss: 0.8203\n",
            "Epoch [20/200], Loss: 0.5844\n",
            "Epoch [30/200], Loss: 0.3582\n",
            "Epoch [40/200], Loss: 0.1930\n",
            "Epoch [50/200], Loss: 0.0897\n",
            "Epoch [60/200], Loss: 0.0364\n",
            "Epoch [70/200], Loss: 0.0111\n",
            "Epoch [80/200], Loss: 0.0022\n",
            "Epoch [90/200], Loss: 0.0008\n",
            "Epoch [100/200], Loss: 0.0003\n",
            "Epoch [110/200], Loss: 0.0001\n",
            "Epoch [120/200], Loss: 0.0000\n",
            "Epoch [130/200], Loss: 0.0000\n",
            "Epoch [140/200], Loss: 0.0000\n",
            "Epoch [150/200], Loss: 0.0000\n",
            "Epoch [160/200], Loss: 0.0000\n",
            "Epoch [170/200], Loss: 0.0000\n",
            "Epoch [180/200], Loss: 0.0000\n",
            "Epoch [190/200], Loss: 0.0000\n",
            "Epoch [200/200], Loss: 0.0000\n"
          ]
        }
      ]
    },
    {
      "cell_type": "code",
      "source": [
        "# Evaluate the model\n",
        "model.eval()\n",
        "with torch.no_grad():\n",
        "    test_outputs = model(X_test_tensor)\n",
        "    test_loss = criterion(test_outputs, y_test_tensor)\n",
        "    print(f'Test Loss: {test_loss.item():.4f}')\n",
        "\n",
        "#my overfit!!!\n",
        "# Evaluate the model\n",
        "model.eval()\n",
        "with torch.no_grad():\n",
        "    train_outputs = model(X_train_tensor)\n",
        "    train_loss = criterion(train_outputs, y_train_tensor)\n",
        "    print(f'Train Loss: {train_loss.item():.4f}')\n"
      ],
      "metadata": {
        "colab": {
          "base_uri": "https://localhost:8080/"
        },
        "id": "U_Zh66XAHscy",
        "outputId": "596e4cbf-29ba-41c7-9ebd-9a86d65058d2"
      },
      "execution_count": 13,
      "outputs": [
        {
          "output_type": "stream",
          "name": "stdout",
          "text": [
            "Test Loss: 0.7416\n",
            "Train Loss: 0.0000\n"
          ]
        }
      ]
    },
    {
      "cell_type": "code",
      "source": [
        "# Make predictions\n",
        "with torch.no_grad():\n",
        "    predictions = model(X_test_tensor)\n",
        "    predictions = scaler_y.inverse_transform(predictions.numpy())\n",
        "\n",
        "print(\"Predictions:\")\n",
        "print(predictions)"
      ],
      "metadata": {
        "colab": {
          "base_uri": "https://localhost:8080/"
        },
        "id": "314vaONiLKBW",
        "outputId": "b302d25b-67f0-48a7-ff05-2d7355ffbebf"
      },
      "execution_count": 14,
      "outputs": [
        {
          "output_type": "stream",
          "name": "stdout",
          "text": [
            "Predictions:\n",
            "[[-1.4903474e-02 -2.9570043e-02 -6.2479352e-04  4.9958151e-02\n",
            "  -1.7154354e-03  1.6179634e-02  1.2478869e-03  1.9338973e+00\n",
            "  -5.6205654e+00]]\n"
          ]
        }
      ]
    },
    {
      "cell_type": "code",
      "source": [
        "#my overfit!!!\n",
        "# Make predictions\n",
        "with torch.no_grad():\n",
        "    predictions = model(X_train_tensor)\n",
        "    predictions = scaler_y.inverse_transform(predictions.numpy())\n",
        "\n",
        "print(\"Predictions:\")\n",
        "import numpy as np\n",
        "np.set_printoptions(suppress=True, precision=6)\n",
        "print(predictions[0])"
      ],
      "metadata": {
        "colab": {
          "base_uri": "https://localhost:8080/"
        },
        "id": "j2eP-joeO52g",
        "outputId": "66491818-3eb4-4270-e0e9-34bee19c665f"
      },
      "execution_count": 15,
      "outputs": [
        {
          "output_type": "stream",
          "name": "stdout",
          "text": [
            "Predictions:\n",
            "[ 0.01461   0.021399 -0.        0.084646 -0.001934 -0.006616 -0.007681\n",
            " -0.635987 -5.106723]\n"
          ]
        }
      ]
    }
  ]
}