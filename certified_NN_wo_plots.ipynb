{
  "nbformat": 4,
  "nbformat_minor": 0,
  "metadata": {
    "colab": {
      "provenance": [],
      "authorship_tag": "ABX9TyNqOgKJPODaYnGcFENSeUtm",
      "include_colab_link": true
    },
    "kernelspec": {
      "name": "python3",
      "display_name": "Python 3"
    },
    "language_info": {
      "name": "python"
    }
  },
  "cells": [
    {
      "cell_type": "markdown",
      "metadata": {
        "id": "view-in-github",
        "colab_type": "text"
      },
      "source": [
        "<a href=\"https://colab.research.google.com/github/maorgreshler/NN_google_colab/blob/main/certified_NN_wo_plots.ipynb\" target=\"_parent\"><img src=\"https://colab.research.google.com/assets/colab-badge.svg\" alt=\"Open In Colab\"/></a>"
      ]
    },
    {
      "cell_type": "code",
      "execution_count": null,
      "metadata": {
        "id": "wwntJquhW7zO"
      },
      "outputs": [],
      "source": [
        "import pandas as pd\n",
        "import io\n",
        "from google.colab import files\n",
        "uploaded = files.upload()\n",
        "\n",
        "df = pd.read_csv(io.BytesIO(uploaded['vehicle_simulation_data_random_test.csv']))\n",
        "print(df.head())"
      ]
    },
    {
      "cell_type": "code",
      "source": [
        "input_columns = [\"velocity\", \"yaw_angle\", \"yaw_rate\", \"slip_angle\", \"front_wheel\", \"back_wheel\" , \"acceleration\", \"angular_acceleration\"]\n",
        "\n",
        "output_columns = [\"delta_x_position\", \"delta_y_position\", \"delta_theta\", \"delta_velocity\", \"delta_yaw_angle\",\n",
        "                  \"delta_yaw_rate\", \"delta_slip_angle\", \"delta_front_wheel\", \"delta_back_wheel\"]\n",
        "\n",
        "input_data = df[input_columns]\n",
        "output_data = df[output_columns]"
      ],
      "metadata": {
        "id": "yK8G11IEXF2G"
      },
      "execution_count": 2,
      "outputs": []
    },
    {
      "cell_type": "code",
      "source": [
        "import torch\n",
        "import torch.nn as nn\n",
        "import torch.optim as optim\n",
        "from sklearn.model_selection import train_test_split\n",
        "from sklearn.preprocessing import StandardScaler\n",
        "\n",
        "# Convert pandas DataFrames to numpy arrays\n",
        "X = input_data.values\n",
        "y = output_data.values\n",
        "# Normalize the data\n",
        "scaler_X = StandardScaler()\n",
        "scaler_y = StandardScaler()\n",
        "\n",
        "X = scaler_X.fit_transform(X)\n",
        "y = scaler_y.fit_transform(y)\n",
        "\n",
        "# Split the data into train and test sets\n",
        "X_train, X_test, y_train, y_test = train_test_split(X, y, test_size=0.2, random_state=42)\n",
        "\n",
        "# Convert numpy arrays to PyTorch tensors\n",
        "X_train_tensor = torch.tensor(X_train, dtype=torch.float32)\n",
        "y_train_tensor = torch.tensor(y_train, dtype=torch.float32)\n",
        "X_test_tensor = torch.tensor(X_test, dtype=torch.float32)\n",
        "y_test_tensor = torch.tensor(y_test, dtype=torch.float32)\n",
        "\n",
        "# Define the MLP model\n",
        "class MLP(nn.Module):\n",
        "    def __init__(self, input_size, output_size):\n",
        "        super(MLP, self).__init__()\n",
        "        self.fc1 = nn.Linear(input_size, 64)\n",
        "        self.fc2 = nn.Linear(64, 128)\n",
        "        self.fc3 = nn.Linear(128, output_size)\n",
        "        self.relu = nn.ReLU()\n",
        "\n",
        "    def forward(self, x):\n",
        "        x = self.relu(self.fc1(x))\n",
        "        x = self.relu(self.fc2(x))\n",
        "        x = self.fc3(x)\n",
        "        return x\n",
        "\n",
        "# Instantiate the model, define loss function and optimizer\n",
        "input_size = X_train.shape[1]\n",
        "output_size = y_train.shape[1]\n",
        "model = MLP(input_size, output_size)\n",
        "criterion = nn.MSELoss()\n",
        "optimizer = optim.Adam(model.parameters(), lr=0.001)\n",
        "\n",
        "# Train the model\n",
        "epochs = 100\n",
        "for epoch in range(epochs):\n",
        "    model.train()\n",
        "    optimizer.zero_grad()\n",
        "    outputs = model(X_train_tensor)\n",
        "    loss = criterion(outputs, y_train_tensor)\n",
        "    loss.backward()\n",
        "    optimizer.step()\n",
        "\n",
        "    if (epoch + 1) % 10 == 0:\n",
        "        print(f'Epoch [{epoch+1}/{epochs}], Loss: {loss.item():.4f}')"
      ],
      "metadata": {
        "colab": {
          "base_uri": "https://localhost:8080/"
        },
        "id": "pYzb1PZQXLYI",
        "outputId": "688eed9d-3273-44a9-cc5a-b70666f52fa4"
      },
      "execution_count": 9,
      "outputs": [
        {
          "output_type": "stream",
          "name": "stdout",
          "text": [
            "Epoch [10/100], Loss: 0.9150\n",
            "Epoch [20/100], Loss: 0.8142\n",
            "Epoch [30/100], Loss: 0.7178\n",
            "Epoch [40/100], Loss: 0.6608\n",
            "Epoch [50/100], Loss: 0.6349\n",
            "Epoch [60/100], Loss: 0.6113\n",
            "Epoch [70/100], Loss: 0.5879\n",
            "Epoch [80/100], Loss: 0.5658\n",
            "Epoch [90/100], Loss: 0.5469\n",
            "Epoch [100/100], Loss: 0.5323\n"
          ]
        }
      ]
    },
    {
      "cell_type": "code",
      "source": [
        "# Evaluate the model\n",
        "model.eval()\n",
        "with torch.no_grad():\n",
        "    test_outputs = model(X_test_tensor)\n",
        "    test_loss = criterion(test_outputs, y_test_tensor)\n",
        "    print(f'Test Loss: {test_loss.item():.4f}')\n",
        "\n",
        "with torch.no_grad():\n",
        "    predictions = model(X_test_tensor)\n",
        "    predictions = scaler_y.inverse_transform(predictions.numpy())\n",
        "\n",
        "print(\"Predictions:\")\n",
        "print(predictions)"
      ],
      "metadata": {
        "colab": {
          "base_uri": "https://localhost:8080/"
        },
        "id": "cmnPZ2kwXSpu",
        "outputId": "0e123e01-4dde-4b6c-c688-53153df322be"
      },
      "execution_count": 10,
      "outputs": [
        {
          "output_type": "stream",
          "name": "stdout",
          "text": [
            "Test Loss: 0.4983\n",
            "Predictions:\n",
            "[[ 7.30388761e-02 -6.64709210e-02 -2.80898414e-03 ...  1.19044434e-03\n",
            "  -7.64075756e+00 -9.25350761e+00]\n",
            " [ 1.05628952e-01 -1.12319835e-01  2.78299302e-03 ...  3.14143440e-03\n",
            "  -3.92455840e+00 -5.25352716e+00]\n",
            " [-3.57321277e-02  3.68379056e-02 -4.11404035e-04 ... -7.18784472e-03\n",
            "  -2.95370412e+00 -3.88876605e+00]\n",
            " ...\n",
            " [-5.86761795e-02  8.96647666e-03  2.99529085e-04 ... -9.70532477e-04\n",
            "  -6.80837488e+00 -8.28355312e+00]\n",
            " [-4.49123457e-02 -5.27048996e-03 -2.61643459e-03 ...  3.83947999e-03\n",
            "  -1.39751685e+00 -3.78355837e+00]\n",
            " [ 5.90105206e-02  7.88538381e-02  7.12402165e-04 ... -7.51594175e-03\n",
            "  -2.91897964e+00 -3.40619349e+00]]\n"
          ]
        }
      ]
    }
  ]
}